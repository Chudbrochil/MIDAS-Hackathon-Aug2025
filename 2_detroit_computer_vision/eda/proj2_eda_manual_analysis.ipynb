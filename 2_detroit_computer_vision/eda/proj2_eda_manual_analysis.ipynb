{
 "cells": [
  {
   "cell_type": "code",
   "execution_count": null,
   "metadata": {},
   "outputs": [],
   "source": [
    "import pandas as pd\n",
    "\n",
    "pd.set_option('display.max_rows', 100)\n",
    "pd.set_option('display.max_columns', 50)"
   ]
  },
  {
   "cell_type": "code",
   "execution_count": null,
   "metadata": {},
   "outputs": [],
   "source": [
    "# Load just the blight survey data\n",
    "blight_filepath = \"../../data/blight_survey_data/20250527_DLBA_survey_data_UM_Detroit.xlsx\"\n",
    "blight_df = pd.read_excel(blight_filepath)\n",
    "blight_df.columns"
   ]
  },
  {
   "cell_type": "code",
   "execution_count": null,
   "metadata": {},
   "outputs": [],
   "source": [
    "blight_df.head()"
   ]
  },
  {
   "cell_type": "code",
   "execution_count": null,
   "metadata": {},
   "outputs": [],
   "source": [
    "blight_df.info()"
   ]
  },
  {
   "cell_type": "code",
   "execution_count": null,
   "metadata": {},
   "outputs": [],
   "source": [
    "blight_df.describe()"
   ]
  },
  {
   "cell_type": "code",
   "execution_count": null,
   "metadata": {},
   "outputs": [],
   "source": [
    "blight_df.isnull().sum()"
   ]
  },
  {
   "cell_type": "code",
   "execution_count": null,
   "metadata": {},
   "outputs": [],
   "source": [
    "blight_df['FINAL_DETERMINATION'].value_counts()"
   ]
  },
  {
   "cell_type": "code",
   "execution_count": null,
   "metadata": {},
   "outputs": [],
   "source": [
    "blight_df['FINAL_DETERMINATION_2'].value_counts()"
   ]
  },
  {
   "cell_type": "code",
   "execution_count": null,
   "metadata": {},
   "outputs": [],
   "source": [
    "blight_df['FIELD_DETERMINATION'].value_counts()"
   ]
  },
  {
   "cell_type": "markdown",
   "metadata": {},
   "source": [
    "### Questions for blight data\n",
    "\n",
    "1. What are the classes in blight, dependent on the above \"FINAL_DETERMINATION\"?\n",
    "- Looks like \"Other resolution pathways (salvage)\" is highest blight?\n",
    "- Looks like \"No action\" and \"Vacant\" are lowest blight?\n",
    "- Looks like \"Noticeable evidence of blight\" of 26 labels, is 1?\n",
    "\n",
    "1a. How does urbanworm do the label management here?\n",
    "\n",
    "1b. What's the diff between FINAL_DETERMINATION, FINAL_DETERMINATION_2, and FIELD_DETERMINATION change?\n",
    "\n",
    "2. What are the important features in predicting blight?\n",
    "- Let's unpack all of the columns, seems like we could just pick 1 to start. ROOF_CONDITION?"
   ]
  },
  {
   "cell_type": "code",
   "execution_count": null,
   "metadata": {},
   "outputs": [],
   "source": [
    "blight_df.columns"
   ]
  },
  {
   "cell_type": "code",
   "execution_count": null,
   "metadata": {},
   "outputs": [],
   "source": [
    "blight_tight_df = blight_df[['PARCEL_ID', 'DATE_SURVEYED', 'IS_OCCUPIED', 'FIRE_DAMAGE_CONDITION', 'ROOF_CONDITION', 'OPENINGS_CONDITION', 'IS_OPEN_TO_TRESPASS', 'FIELD_DETERMINATION']]"
   ]
  },
  {
   "cell_type": "code",
   "execution_count": null,
   "metadata": {},
   "outputs": [],
   "source": [
    "for col in blight_tight_df.columns:\n",
    "    if col not in ['PARCEL_ID', 'DATE_SURVEYED']:\n",
    "        print(blight_tight_df[col].value_counts())"
   ]
  },
  {
   "cell_type": "code",
   "execution_count": null,
   "metadata": {},
   "outputs": [],
   "source": [
    "def make_labels(blight_df):\n",
    "    \"\"\"\n",
    "    Create blight labels from FIELD_DETERMINATION column.\n",
    "    \n",
    "    Labels:\n",
    "    0 = No/minimal blight (Salvage categories, Vacant not blighted)\n",
    "    1 = Noticeable evidence of blight\n",
    "    2 = Significant evidence of blight  \n",
    "    3 = Extreme evidence of blight\n",
    "    \n",
    "    Excludes: 'Property in Pipeline' and 'ODM (Demo)'\n",
    "    \n",
    "    Returns: DataFrame with PARCEL_ID and BLIGHT_LABEL columns only\n",
    "    \"\"\"\n",
    "    # Create label mapping\n",
    "    label_mapping = {\n",
    "        'No Action (Salvage)': 0,\n",
    "        ' NAP (Salvage)': 0,\n",
    "        'Other Resolution Pathways (Salvage)': 0,\n",
    "        'Vacant (Not Blighted)': 0,\n",
    "        'Noticeable Evidence of Blight': 1,\n",
    "        'Significant Evidence of Blight': 2,\n",
    "        'Extreme Evidence of Blight': 3\n",
    "    }\n",
    "    \n",
    "    # Filter out unwanted categories\n",
    "    exclude_categories = ['Property in Pipeline', 'ODM (Demo)']\n",
    "    filtered_df = blight_df[~blight_df['FIELD_DETERMINATION'].isin(exclude_categories)].copy()\n",
    "    \n",
    "    # Create blight_labels dataframe\n",
    "    blight_labels = filtered_df[['PARCEL_ID', 'FIELD_DETERMINATION']].copy()\n",
    "    blight_labels['BLIGHT_LABEL'] = blight_labels['FIELD_DETERMINATION'].map(label_mapping)\n",
    "    blight_labels = blight_labels[['PARCEL_ID', 'BLIGHT_LABEL']]\n",
    "    \n",
    "    # Remove any rows with missing labels\n",
    "    blight_labels = blight_labels.dropna()\n",
    "    \n",
    "    # Convert to integer type\n",
    "    blight_labels['BLIGHT_LABEL'] = blight_labels['BLIGHT_LABEL'].astype(int)\n",
    "    \n",
    "    return blight_labels"
   ]
  },
  {
   "cell_type": "code",
   "execution_count": null,
   "metadata": {},
   "outputs": [],
   "source": [
    "blight_labels_df = make_labels(blight_df)"
   ]
  },
  {
   "cell_type": "code",
   "execution_count": null,
   "metadata": {},
   "outputs": [],
   "source": [
    "blight_labels_df['BLIGHT_LABEL'].value_counts()"
   ]
  },
  {
   "cell_type": "code",
   "execution_count": null,
   "metadata": {},
   "outputs": [],
   "source": [
    "def make_features(blight_df):\n",
    "    \"\"\"\n",
    "    Create features dataframe for training.\n",
    "    \n",
    "    Includes: PARCEL_ID, DATE_SURVEYED, IS_OCCUPIED, FIRE_DAMAGE_CONDITION, \n",
    "              ROOF_CONDITION, OPENINGS_CONDITION, IS_OPEN_TO_TRESPASS\n",
    "    \n",
    "    Returns: DataFrame with selected feature columns\n",
    "    \"\"\"\n",
    "    feature_columns = [\n",
    "        'PARCEL_ID', \n",
    "        'DATE_SURVEYED', \n",
    "        'IS_OCCUPIED', \n",
    "        'FIRE_DAMAGE_CONDITION', \n",
    "        'ROOF_CONDITION', \n",
    "        'OPENINGS_CONDITION', \n",
    "        'IS_OPEN_TO_TRESPASS'\n",
    "    ]\n",
    "    \n",
    "    # Create features dataframe\n",
    "    blight_features_df = blight_df[feature_columns].copy()\n",
    "    \n",
    "    return blight_features_df"
   ]
  },
  {
   "cell_type": "code",
   "execution_count": null,
   "metadata": {},
   "outputs": [],
   "source": [
    "blight_features_df = make_features(blight_df)"
   ]
  },
  {
   "cell_type": "code",
   "execution_count": null,
   "metadata": {},
   "outputs": [],
   "source": [
    "# Let's save off the datasets so we can train a model...\n",
    "blight_labels_df.to_csv(\"../training_data/blight_labels.csv\")\n",
    "blight_features_df.to_csv(\"../training_data/blight_features.csv\")"
   ]
  },
  {
   "cell_type": "code",
   "execution_count": null,
   "metadata": {},
   "outputs": [],
   "source": []
  }
 ],
 "metadata": {
  "kernelspec": {
   "display_name": "midas_aug25",
   "language": "python",
   "name": "python3"
  },
  "language_info": {
   "codemirror_mode": {
    "name": "ipython",
    "version": 3
   },
   "file_extension": ".py",
   "mimetype": "text/x-python",
   "name": "python",
   "nbconvert_exporter": "python",
   "pygments_lexer": "ipython3",
   "version": "3.10.18"
  }
 },
 "nbformat": 4,
 "nbformat_minor": 4
}
