{
 "cells": [
  {
   "cell_type": "code",
   "execution_count": null,
   "metadata": {},
   "outputs": [],
   "source": [
    "import pandas as pd\n",
    "\n",
    "pd.set_option('display.max_rows', 100)\n",
    "pd.set_option('display.max_columns', 50)"
   ]
  },
  {
   "cell_type": "code",
   "execution_count": null,
   "metadata": {},
   "outputs": [],
   "source": [
    "# Load just the blight survey data\n",
    "blight_filepath = \"../../data/blight_survey_data/20250527_DLBA_survey_data_UM_Detroit.xlsx\"\n",
    "blight_df = pd.read_excel(blight_filepath)\n",
    "blight_df.columns"
   ]
  },
  {
   "cell_type": "code",
   "execution_count": null,
   "metadata": {},
   "outputs": [],
   "source": [
    "blight_df.head()\n"
   ]
  },
  {
   "cell_type": "code",
   "execution_count": null,
   "metadata": {},
   "outputs": [],
   "source": [
    "blight_df.info()\n",
    "\n"
   ]
  },
  {
   "cell_type": "code",
   "execution_count": null,
   "metadata": {},
   "outputs": [],
   "source": [
    "blight_df.describe()\n",
    "\n"
   ]
  },
  {
   "cell_type": "code",
   "execution_count": null,
   "metadata": {},
   "outputs": [],
   "source": [
    "blight_df.isnull().sum()"
   ]
  },
  {
   "cell_type": "code",
   "execution_count": null,
   "metadata": {},
   "outputs": [],
   "source": [
    "blight_df['FINAL_DETERMINATION'].value_counts()"
   ]
  },
  {
   "cell_type": "code",
   "execution_count": null,
   "metadata": {},
   "outputs": [],
   "source": [
    "blight_df['FINAL_DETERMINATION_2'].value_counts()"
   ]
  },
  {
   "cell_type": "code",
   "execution_count": null,
   "metadata": {},
   "outputs": [],
   "source": [
    "blight_df['FIELD_DETERMINATION'].value_counts()"
   ]
  },
  {
   "cell_type": "markdown",
   "metadata": {},
   "source": [
    "### Questions for blight data\n",
    "\n",
    "1. What are the classes in blight, dependent on the above \"FINAL_DETERMINATION\"?\n",
    "- Looks like \"Other resolution pathways (salvage)\" is highest blight?\n",
    "- Looks like \"No action\" and \"Vacant\" are lowest blight?\n",
    "- Looks like \"Noticeable evidence of blight\" of 26 labels, is 1?\n",
    "\n",
    "1a. How does urbanworm do the label management here?\n",
    "\n",
    "1b. What's the diff between FINAL_DETERMINATION, FINAL_DETERMINATION_2, and FIELD_DETERMINATION change?\n",
    "\n",
    "2. What are the important features in predicting blight?\n",
    "- Let's unpack all of the columns, seems like we could just pick 1 to start. ROOF_CONDITION?"
   ]
  },
  {
   "cell_type": "code",
   "execution_count": null,
   "metadata": {},
   "outputs": [],
   "source": [
    "blight_df.columns"
   ]
  },
  {
   "cell_type": "code",
   "execution_count": null,
   "metadata": {},
   "outputs": [],
   "source": [
    "blight_tight_df = blight_df[['PARCEL_ID', 'DATE_SURVEYED', 'IS_OCCUPIED', 'FIRE_DAMAGE_CONDITION', 'ROOF_CONDITION', 'OPENINGS_CONDITION', 'IS_OPEN_TO_TRESPASS', 'FIELD_DETERMINATION']]"
   ]
  },
  {
   "cell_type": "code",
   "execution_count": null,
   "metadata": {},
   "outputs": [],
   "source": [
    "for col in blight_tight_df.columns:\n",
    "    if col not in ['PARCEL_ID', 'DATE_SURVEYED']:\n",
    "        print(blight_tight_df[col].value_counts())"
   ]
  },
  {
   "cell_type": "code",
   "execution_count": null,
   "metadata": {},
   "outputs": [],
   "source": [
    "blight_labels = "
   ]
  }
 ],
 "metadata": {
  "kernelspec": {
   "display_name": "midas_aug25",
   "language": "python",
   "name": "python3"
  },
  "language_info": {
   "codemirror_mode": {
    "name": "ipython",
    "version": 3
   },
   "file_extension": ".py",
   "mimetype": "text/x-python",
   "name": "python",
   "nbconvert_exporter": "python",
   "pygments_lexer": "ipython3",
   "version": "3.10.18"
  }
 },
 "nbformat": 4,
 "nbformat_minor": 4
}
