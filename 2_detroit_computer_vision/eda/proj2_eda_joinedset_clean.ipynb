{
 "cells": [
  {
   "cell_type": "markdown",
   "metadata": {},
   "source": [
    "# What have we done so far\n",
    "### De-duped parcel_id's\n",
    "### Selected predictive features\n",
    "### Cleaned the data (ONLY A BIT)"
   ]
  },
  {
   "cell_type": "code",
   "execution_count": 1,
   "metadata": {},
   "outputs": [],
   "source": [
    "import pandas as pd\n",
    "import numpy as np\n",
    "\n",
    "pd.set_option('display.max_rows', 500)\n",
    "pd.set_option('display.max_columns', 50)"
   ]
  },
  {
   "cell_type": "code",
   "execution_count": 2,
   "metadata": {},
   "outputs": [
    {
     "name": "stdout",
     "output_type": "stream",
     "text": [
      "Original dataframe shape: (511687, 94)\n"
     ]
    }
   ],
   "source": [
    "# Load the joined dataset\n",
    "df = pd.read_csv(\"../../data/data-jam-joined.csv\", low_memory=False)\n",
    "print(f\"Original dataframe shape: {df.shape}\")"
   ]
  },
  {
   "cell_type": "markdown",
   "metadata": {},
   "source": [
    "### Predictive columns:\n",
    "- year_built, tax_status, assessed_value, is_improved, total_floor_area, property_class_desc, IS_OCCUPIED (field), FACADE_SIDING_CONDITION, FIRE_DAMAGE_CONDITION\n",
    "- unit_cleared_at (dependent on time), permit_type (trade permits, date), issued_date (when permit issued), \n",
    "- VACANT (USPS), MAILER_EXPORT_DATE (when we determined they were vacant), account_active_code (water status, might be mangled)\n",
    "- pct_pre_claimed, total_acreage\n",
    "- local_historic_district: predictive, but discriminatory.\n",
    "- SURVEYOR_NOTES (free form text we can topic model against)\n",
    "\n",
    "\n",
    "### Predictive, but we won't have them at \"prediction time\":\n",
    "- FACADE_SIDING_CONDITION, FIRE_DAMAGE_CONDITION, ROOF_CONDITION, OPENINGS_CONDITION, IS_OPEN_TO_TREPASS, PORCH_STEPS_CONDITION\n",
    "\n",
    "### Helper columns: (filters, id's)\n",
    "- PARCEL_ID_x, DATE_SURVEYED(filter to last surveyed), FIELD_DETERMINATION(blight labels)\n",
    "- HAS_STRUCTURE (throw it out if it's false)"
   ]
  },
  {
   "cell_type": "code",
   "execution_count": 3,
   "metadata": {},
   "outputs": [],
   "source": [
    "\n",
    "selected_columns = [\n",
    "    'PARCEL_ID_x',  # Single parcel ID\n",
    "    'year_built_x', 'tax_status_x',\n",
    "    'assessed_value', 'is_improved_x', 'total_floor_area_x',\n",
    "    'property_class_desc', 'DATE_SURVEYED',\n",
    "    'FIELD_DETERMINATION', 'SURVEYOR_NOTES', 'HAS_STRUCTURE', 'IS_OCCUPIED',\n",
    "    'unit_cleared_at', 'address_id', \n",
    "    'record_id', 'permit_type', 'issued_date', 'address_id_trd',\n",
    "    'VACANT', 'MAILER_EXPORT_DATE',\n",
    "    'address_number', 'address_street_name',\n",
    "    'account_active_code', 'pct_pre_claimed', 'total_acreage', 'local_historic_district', \n",
    "]\n",
    "\n",
    "\n",
    "tight_df = df[selected_columns]"
   ]
  },
  {
   "cell_type": "code",
   "execution_count": 4,
   "metadata": {},
   "outputs": [
    {
     "data": {
      "text/html": [
       "<div>\n",
       "<style scoped>\n",
       "    .dataframe tbody tr th:only-of-type {\n",
       "        vertical-align: middle;\n",
       "    }\n",
       "\n",
       "    .dataframe tbody tr th {\n",
       "        vertical-align: top;\n",
       "    }\n",
       "\n",
       "    .dataframe thead th {\n",
       "        text-align: right;\n",
       "    }\n",
       "</style>\n",
       "<table border=\"1\" class=\"dataframe\">\n",
       "  <thead>\n",
       "    <tr style=\"text-align: right;\">\n",
       "      <th></th>\n",
       "      <th>PARCEL_ID_x</th>\n",
       "      <th>year_built_x</th>\n",
       "      <th>tax_status_x</th>\n",
       "      <th>assessed_value</th>\n",
       "      <th>is_improved_x</th>\n",
       "      <th>total_floor_area_x</th>\n",
       "      <th>property_class_desc</th>\n",
       "      <th>DATE_SURVEYED</th>\n",
       "      <th>FIELD_DETERMINATION</th>\n",
       "      <th>SURVEYOR_NOTES</th>\n",
       "      <th>HAS_STRUCTURE</th>\n",
       "      <th>IS_OCCUPIED</th>\n",
       "      <th>unit_cleared_at</th>\n",
       "      <th>address_id</th>\n",
       "      <th>record_id</th>\n",
       "      <th>permit_type</th>\n",
       "      <th>issued_date</th>\n",
       "      <th>address_id_trd</th>\n",
       "      <th>VACANT</th>\n",
       "      <th>MAILER_EXPORT_DATE</th>\n",
       "      <th>address_number</th>\n",
       "      <th>address_street_name</th>\n",
       "      <th>account_active_code</th>\n",
       "      <th>pct_pre_claimed</th>\n",
       "      <th>total_acreage</th>\n",
       "      <th>local_historic_district</th>\n",
       "    </tr>\n",
       "  </thead>\n",
       "  <tbody>\n",
       "    <tr>\n",
       "      <th>0</th>\n",
       "      <td>08010116.</td>\n",
       "      <td>1927.0</td>\n",
       "      <td>TAXABLE</td>\n",
       "      <td>50400.0</td>\n",
       "      <td>1.0</td>\n",
       "      <td>2600.0</td>\n",
       "      <td>RESIDENTIAL-IMPROVED</td>\n",
       "      <td>2024-07-03 00:00:00</td>\n",
       "      <td>Noticeable Evidence of Blight</td>\n",
       "      <td>Front entrance boarded up.</td>\n",
       "      <td>1.0</td>\n",
       "      <td>0.0</td>\n",
       "      <td>NaN</td>\n",
       "      <td>NaN</td>\n",
       "      <td>NaN</td>\n",
       "      <td>NaN</td>\n",
       "      <td>NaN</td>\n",
       "      <td>NaN</td>\n",
       "      <td>Y</td>\n",
       "      <td>2021-10-01</td>\n",
       "      <td>16191.0</td>\n",
       "      <td>BAYLIS ST</td>\n",
       "      <td>ACTIVE</td>\n",
       "      <td>NaN</td>\n",
       "      <td>NaN</td>\n",
       "      <td>NaN</td>\n",
       "    </tr>\n",
       "    <tr>\n",
       "      <th>1</th>\n",
       "      <td>08010116.</td>\n",
       "      <td>1927.0</td>\n",
       "      <td>TAXABLE</td>\n",
       "      <td>50400.0</td>\n",
       "      <td>1.0</td>\n",
       "      <td>2600.0</td>\n",
       "      <td>RESIDENTIAL-IMPROVED</td>\n",
       "      <td>2024-07-03 00:00:00</td>\n",
       "      <td>Noticeable Evidence of Blight</td>\n",
       "      <td>Front entrance boarded up.</td>\n",
       "      <td>1.0</td>\n",
       "      <td>0.0</td>\n",
       "      <td>NaN</td>\n",
       "      <td>NaN</td>\n",
       "      <td>NaN</td>\n",
       "      <td>NaN</td>\n",
       "      <td>NaN</td>\n",
       "      <td>NaN</td>\n",
       "      <td>Y</td>\n",
       "      <td>2020-05-01</td>\n",
       "      <td>16191.0</td>\n",
       "      <td>BAYLIS ST</td>\n",
       "      <td>ACTIVE</td>\n",
       "      <td>NaN</td>\n",
       "      <td>NaN</td>\n",
       "      <td>NaN</td>\n",
       "    </tr>\n",
       "    <tr>\n",
       "      <th>2</th>\n",
       "      <td>08010116.</td>\n",
       "      <td>1927.0</td>\n",
       "      <td>TAXABLE</td>\n",
       "      <td>50400.0</td>\n",
       "      <td>1.0</td>\n",
       "      <td>2600.0</td>\n",
       "      <td>RESIDENTIAL-IMPROVED</td>\n",
       "      <td>2024-07-03 00:00:00</td>\n",
       "      <td>Noticeable Evidence of Blight</td>\n",
       "      <td>Front entrance boarded up.</td>\n",
       "      <td>1.0</td>\n",
       "      <td>0.0</td>\n",
       "      <td>NaN</td>\n",
       "      <td>NaN</td>\n",
       "      <td>NaN</td>\n",
       "      <td>NaN</td>\n",
       "      <td>NaN</td>\n",
       "      <td>NaN</td>\n",
       "      <td>Y</td>\n",
       "      <td>2022-10-01</td>\n",
       "      <td>16191.0</td>\n",
       "      <td>BAYLIS ST</td>\n",
       "      <td>ACTIVE</td>\n",
       "      <td>NaN</td>\n",
       "      <td>NaN</td>\n",
       "      <td>NaN</td>\n",
       "    </tr>\n",
       "    <tr>\n",
       "      <th>3</th>\n",
       "      <td>08010116.</td>\n",
       "      <td>1927.0</td>\n",
       "      <td>TAXABLE</td>\n",
       "      <td>50400.0</td>\n",
       "      <td>1.0</td>\n",
       "      <td>2600.0</td>\n",
       "      <td>RESIDENTIAL-IMPROVED</td>\n",
       "      <td>2024-07-03 00:00:00</td>\n",
       "      <td>Noticeable Evidence of Blight</td>\n",
       "      <td>Front entrance boarded up.</td>\n",
       "      <td>1.0</td>\n",
       "      <td>0.0</td>\n",
       "      <td>NaN</td>\n",
       "      <td>NaN</td>\n",
       "      <td>NaN</td>\n",
       "      <td>NaN</td>\n",
       "      <td>NaN</td>\n",
       "      <td>NaN</td>\n",
       "      <td>N</td>\n",
       "      <td>2023-11-01</td>\n",
       "      <td>16191.0</td>\n",
       "      <td>BAYLIS ST</td>\n",
       "      <td>ACTIVE</td>\n",
       "      <td>NaN</td>\n",
       "      <td>NaN</td>\n",
       "      <td>NaN</td>\n",
       "    </tr>\n",
       "    <tr>\n",
       "      <th>4</th>\n",
       "      <td>08010116.</td>\n",
       "      <td>1927.0</td>\n",
       "      <td>TAXABLE</td>\n",
       "      <td>50400.0</td>\n",
       "      <td>1.0</td>\n",
       "      <td>2600.0</td>\n",
       "      <td>RESIDENTIAL-IMPROVED</td>\n",
       "      <td>2024-07-03 00:00:00</td>\n",
       "      <td>Noticeable Evidence of Blight</td>\n",
       "      <td>Front entrance boarded up.</td>\n",
       "      <td>1.0</td>\n",
       "      <td>0.0</td>\n",
       "      <td>NaN</td>\n",
       "      <td>NaN</td>\n",
       "      <td>NaN</td>\n",
       "      <td>NaN</td>\n",
       "      <td>NaN</td>\n",
       "      <td>NaN</td>\n",
       "      <td>Y</td>\n",
       "      <td>2023-11-01</td>\n",
       "      <td>16191.0</td>\n",
       "      <td>BAYLIS ST</td>\n",
       "      <td>ACTIVE</td>\n",
       "      <td>NaN</td>\n",
       "      <td>NaN</td>\n",
       "      <td>NaN</td>\n",
       "    </tr>\n",
       "  </tbody>\n",
       "</table>\n",
       "</div>"
      ],
      "text/plain": [
       "  PARCEL_ID_x  year_built_x tax_status_x  assessed_value  is_improved_x  \\\n",
       "0   08010116.        1927.0      TAXABLE         50400.0            1.0   \n",
       "1   08010116.        1927.0      TAXABLE         50400.0            1.0   \n",
       "2   08010116.        1927.0      TAXABLE         50400.0            1.0   \n",
       "3   08010116.        1927.0      TAXABLE         50400.0            1.0   \n",
       "4   08010116.        1927.0      TAXABLE         50400.0            1.0   \n",
       "\n",
       "   total_floor_area_x   property_class_desc        DATE_SURVEYED  \\\n",
       "0              2600.0  RESIDENTIAL-IMPROVED  2024-07-03 00:00:00   \n",
       "1              2600.0  RESIDENTIAL-IMPROVED  2024-07-03 00:00:00   \n",
       "2              2600.0  RESIDENTIAL-IMPROVED  2024-07-03 00:00:00   \n",
       "3              2600.0  RESIDENTIAL-IMPROVED  2024-07-03 00:00:00   \n",
       "4              2600.0  RESIDENTIAL-IMPROVED  2024-07-03 00:00:00   \n",
       "\n",
       "             FIELD_DETERMINATION              SURVEYOR_NOTES  HAS_STRUCTURE  \\\n",
       "0  Noticeable Evidence of Blight  Front entrance boarded up.            1.0   \n",
       "1  Noticeable Evidence of Blight  Front entrance boarded up.            1.0   \n",
       "2  Noticeable Evidence of Blight  Front entrance boarded up.            1.0   \n",
       "3  Noticeable Evidence of Blight  Front entrance boarded up.            1.0   \n",
       "4  Noticeable Evidence of Blight  Front entrance boarded up.            1.0   \n",
       "\n",
       "   IS_OCCUPIED unit_cleared_at  address_id record_id permit_type issued_date  \\\n",
       "0          0.0             NaN         NaN       NaN         NaN         NaN   \n",
       "1          0.0             NaN         NaN       NaN         NaN         NaN   \n",
       "2          0.0             NaN         NaN       NaN         NaN         NaN   \n",
       "3          0.0             NaN         NaN       NaN         NaN         NaN   \n",
       "4          0.0             NaN         NaN       NaN         NaN         NaN   \n",
       "\n",
       "   address_id_trd VACANT MAILER_EXPORT_DATE  address_number  \\\n",
       "0             NaN      Y         2021-10-01         16191.0   \n",
       "1             NaN      Y         2020-05-01         16191.0   \n",
       "2             NaN      Y         2022-10-01         16191.0   \n",
       "3             NaN      N         2023-11-01         16191.0   \n",
       "4             NaN      Y         2023-11-01         16191.0   \n",
       "\n",
       "  address_street_name account_active_code  pct_pre_claimed  total_acreage  \\\n",
       "0           BAYLIS ST              ACTIVE              NaN            NaN   \n",
       "1           BAYLIS ST              ACTIVE              NaN            NaN   \n",
       "2           BAYLIS ST              ACTIVE              NaN            NaN   \n",
       "3           BAYLIS ST              ACTIVE              NaN            NaN   \n",
       "4           BAYLIS ST              ACTIVE              NaN            NaN   \n",
       "\n",
       "  local_historic_district  \n",
       "0                     NaN  \n",
       "1                     NaN  \n",
       "2                     NaN  \n",
       "3                     NaN  \n",
       "4                     NaN  "
      ]
     },
     "execution_count": 4,
     "metadata": {},
     "output_type": "execute_result"
    }
   ],
   "source": [
    "# Display first few rows of the tight dataframe\n",
    "tight_df.head()"
   ]
  },
  {
   "cell_type": "code",
   "execution_count": 5,
   "metadata": {},
   "outputs": [
    {
     "data": {
      "text/plain": [
       "HAS_STRUCTURE\n",
       "1.0    446954\n",
       "0.0      4241\n",
       "Name: count, dtype: int64"
      ]
     },
     "execution_count": 5,
     "metadata": {},
     "output_type": "execute_result"
    }
   ],
   "source": [
    "tight_df['HAS_STRUCTURE'].value_counts()"
   ]
  },
  {
   "cell_type": "code",
   "execution_count": 6,
   "metadata": {},
   "outputs": [],
   "source": [
    "tight_df = tight_df[tight_df['HAS_STRUCTURE'] == 1.0]\n",
    "tight_df = tight_df.drop(columns=['HAS_STRUCTURE'])"
   ]
  },
  {
   "cell_type": "code",
   "execution_count": 7,
   "metadata": {},
   "outputs": [
    {
     "data": {
      "text/plain": [
       "(446954, 25)"
      ]
     },
     "execution_count": 7,
     "metadata": {},
     "output_type": "execute_result"
    }
   ],
   "source": [
    "tight_df.shape"
   ]
  },
  {
   "cell_type": "code",
   "execution_count": 8,
   "metadata": {},
   "outputs": [
    {
     "data": {
      "text/plain": [
       "Index(['PARCEL_ID_x', 'year_built_x', 'tax_status_x', 'assessed_value',\n",
       "       'is_improved_x', 'total_floor_area_x', 'property_class_desc',\n",
       "       'DATE_SURVEYED', 'FIELD_DETERMINATION', 'SURVEYOR_NOTES', 'IS_OCCUPIED',\n",
       "       'unit_cleared_at', 'address_id', 'record_id', 'permit_type',\n",
       "       'issued_date', 'address_id_trd', 'VACANT', 'MAILER_EXPORT_DATE',\n",
       "       'address_number', 'address_street_name', 'account_active_code',\n",
       "       'pct_pre_claimed', 'total_acreage', 'local_historic_district'],\n",
       "      dtype='object')"
      ]
     },
     "execution_count": 8,
     "metadata": {},
     "output_type": "execute_result"
    }
   ],
   "source": [
    "tight_df.columns"
   ]
  },
  {
   "cell_type": "code",
   "execution_count": 9,
   "metadata": {},
   "outputs": [],
   "source": [
    "# TODO: Keep the latest survey.\n",
    "\n",
    "# Drop erroneous parcel's that have null join's amounting to 12,742 rows.\n",
    "tight_df = tight_df[~tight_df['PARCEL_ID_x'].isin(['22118326.',\n",
    "  '02001944.', '22087886-7',\n",
    "  '22087888.', '08007564.',\n",
    "  '08010001.', '09006208.',\n",
    "  '01000670-1', '17007609.',\n",
    "  '18011974.'])]"
   ]
  },
  {
   "cell_type": "code",
   "execution_count": 10,
   "metadata": {},
   "outputs": [
    {
     "data": {
      "text/plain": [
       "(319534, 25)"
      ]
     },
     "execution_count": 10,
     "metadata": {},
     "output_type": "execute_result"
    }
   ],
   "source": [
    "tight_df.shape"
   ]
  },
  {
   "cell_type": "code",
   "execution_count": 11,
   "metadata": {},
   "outputs": [
    {
     "data": {
      "text/plain": [
       "Index(['PARCEL_ID_x', 'year_built_x', 'tax_status_x', 'assessed_value',\n",
       "       'is_improved_x', 'total_floor_area_x', 'property_class_desc',\n",
       "       'DATE_SURVEYED', 'FIELD_DETERMINATION', 'SURVEYOR_NOTES', 'IS_OCCUPIED',\n",
       "       'unit_cleared_at', 'address_id', 'record_id', 'permit_type',\n",
       "       'issued_date', 'address_id_trd', 'VACANT', 'MAILER_EXPORT_DATE',\n",
       "       'address_number', 'address_street_name', 'account_active_code',\n",
       "       'pct_pre_claimed', 'total_acreage', 'local_historic_district'],\n",
       "      dtype='object')"
      ]
     },
     "execution_count": 11,
     "metadata": {},
     "output_type": "execute_result"
    }
   ],
   "source": [
    "tight_df.columns"
   ]
  },
  {
   "cell_type": "code",
   "execution_count": 12,
   "metadata": {},
   "outputs": [],
   "source": [
    "tight_df.to_csv(\"data-jam-joined-cleaner-08042025.csv\")"
   ]
  },
  {
   "cell_type": "code",
   "execution_count": 13,
   "metadata": {},
   "outputs": [],
   "source": [
    "# CV model does roof, opening (missing a wall)\n",
    "\n",
    "# Roof: 67.72% accuracy\n",
    "# Wall: 57%\n",
    "# Opening: 67%"
   ]
  },
  {
   "cell_type": "markdown",
   "metadata": {},
   "source": []
  },
  {
   "cell_type": "code",
   "execution_count": 14,
   "metadata": {},
   "outputs": [],
   "source": [
    "# Define predictive columns\n",
    "predictive_columns = [\n",
    "    'year_built_x', 'tax_status_x',\n",
    "    'assessed_value', 'is_improved_x',\n",
    "'total_floor_area_x', 'DATE_SURVEYED',\n",
    "    'property_class_desc',\n",
    "    'SURVEYOR_NOTES', 'IS_OCCUPIED',\n",
    "    'permit_type',\n",
    "    'VACANT',\n",
    "    'account_active_code', 'pct_pre_claimed',\n",
    "'total_acreage', 'local_historic_district',\n",
    "]\n",
    "\n",
    "df_features = tight_df[['PARCEL_ID_x'] +\n",
    "  predictive_columns]\n",
    "\n",
    "# Define the valid blight labels\n",
    "valid_labels = {\n",
    "    'Vacant (Not Blighted)': 0,\n",
    "    'No Action (Salvage)': 0,\n",
    "    'Noticeable Evidence of Blight': 1,\n",
    "    'Significant Evidence of Blight': 2,\n",
    "    'Extreme Evidence of Blight': 3\n",
    "}\n",
    "\n",
    "# Filter to only keep rows with valid \n",
    "df_labels = tight_df[tight_df['FIELD_DETERMINATION'].isin(valid_labels.keys())][['PARCEL_ID_x','FIELD_DETERMINATION']].copy()\n",
    "\n",
    "# Create numeric label column\n",
    "df_labels['label'] = df_labels['FIELD_DETERMINATION'].map(valid_labels)\n",
    "\n",
    "# Create string label column (keeping original names)\n",
    "df_labels['label_str'] = df_labels['FIELD_DETERMINATION']\n",
    "\n",
    "# Drop the original FIELD_DETERMINATION column if you \n",
    "df_labels = df_labels[['PARCEL_ID_x', 'label', 'label_str']]"
   ]
  },
  {
   "cell_type": "code",
   "execution_count": 15,
   "metadata": {},
   "outputs": [
    {
     "data": {
      "text/plain": [
       "label\n",
       "1    171274\n",
       "0     77987\n",
       "2     60436\n",
       "3      9563\n",
       "Name: count, dtype: int64"
      ]
     },
     "execution_count": 15,
     "metadata": {},
     "output_type": "execute_result"
    }
   ],
   "source": [
    "df_labels['label'].value_counts()"
   ]
  },
  {
   "cell_type": "code",
   "execution_count": 16,
   "metadata": {},
   "outputs": [
    {
     "ename": "OSError",
     "evalue": "Cannot save file into a non-existent directory: '../../training_data'",
     "output_type": "error",
     "traceback": [
      "\u001b[0;31m---------------------------------------------------------------------------\u001b[0m",
      "\u001b[0;31mOSError\u001b[0m                                   Traceback (most recent call last)",
      "Cell \u001b[0;32mIn[16], line 1\u001b[0m\n\u001b[0;32m----> 1\u001b[0m \u001b[43mdf_features\u001b[49m\u001b[38;5;241;43m.\u001b[39;49m\u001b[43mto_csv\u001b[49m\u001b[43m(\u001b[49m\u001b[38;5;124;43m\"\u001b[39;49m\u001b[38;5;124;43m../../training_data/08042025-cleaned-features.csv\u001b[39;49m\u001b[38;5;124;43m\"\u001b[39;49m\u001b[43m)\u001b[49m\n",
      "File \u001b[0;32m/opt/anaconda3/envs/midas_aug25/lib/python3.10/site-packages/pandas/util/_decorators.py:333\u001b[0m, in \u001b[0;36mdeprecate_nonkeyword_arguments.<locals>.decorate.<locals>.wrapper\u001b[0;34m(*args, **kwargs)\u001b[0m\n\u001b[1;32m    327\u001b[0m \u001b[38;5;28;01mif\u001b[39;00m \u001b[38;5;28mlen\u001b[39m(args) \u001b[38;5;241m>\u001b[39m num_allow_args:\n\u001b[1;32m    328\u001b[0m     warnings\u001b[38;5;241m.\u001b[39mwarn(\n\u001b[1;32m    329\u001b[0m         msg\u001b[38;5;241m.\u001b[39mformat(arguments\u001b[38;5;241m=\u001b[39m_format_argument_list(allow_args)),\n\u001b[1;32m    330\u001b[0m         \u001b[38;5;167;01mFutureWarning\u001b[39;00m,\n\u001b[1;32m    331\u001b[0m         stacklevel\u001b[38;5;241m=\u001b[39mfind_stack_level(),\n\u001b[1;32m    332\u001b[0m     )\n\u001b[0;32m--> 333\u001b[0m \u001b[38;5;28;01mreturn\u001b[39;00m \u001b[43mfunc\u001b[49m\u001b[43m(\u001b[49m\u001b[38;5;241;43m*\u001b[39;49m\u001b[43margs\u001b[49m\u001b[43m,\u001b[49m\u001b[43m \u001b[49m\u001b[38;5;241;43m*\u001b[39;49m\u001b[38;5;241;43m*\u001b[39;49m\u001b[43mkwargs\u001b[49m\u001b[43m)\u001b[49m\n",
      "File \u001b[0;32m/opt/anaconda3/envs/midas_aug25/lib/python3.10/site-packages/pandas/core/generic.py:3986\u001b[0m, in \u001b[0;36mNDFrame.to_csv\u001b[0;34m(self, path_or_buf, sep, na_rep, float_format, columns, header, index, index_label, mode, encoding, compression, quoting, quotechar, lineterminator, chunksize, date_format, doublequote, escapechar, decimal, errors, storage_options)\u001b[0m\n\u001b[1;32m   3975\u001b[0m df \u001b[38;5;241m=\u001b[39m \u001b[38;5;28mself\u001b[39m \u001b[38;5;28;01mif\u001b[39;00m \u001b[38;5;28misinstance\u001b[39m(\u001b[38;5;28mself\u001b[39m, ABCDataFrame) \u001b[38;5;28;01melse\u001b[39;00m \u001b[38;5;28mself\u001b[39m\u001b[38;5;241m.\u001b[39mto_frame()\n\u001b[1;32m   3977\u001b[0m formatter \u001b[38;5;241m=\u001b[39m DataFrameFormatter(\n\u001b[1;32m   3978\u001b[0m     frame\u001b[38;5;241m=\u001b[39mdf,\n\u001b[1;32m   3979\u001b[0m     header\u001b[38;5;241m=\u001b[39mheader,\n\u001b[0;32m   (...)\u001b[0m\n\u001b[1;32m   3983\u001b[0m     decimal\u001b[38;5;241m=\u001b[39mdecimal,\n\u001b[1;32m   3984\u001b[0m )\n\u001b[0;32m-> 3986\u001b[0m \u001b[38;5;28;01mreturn\u001b[39;00m \u001b[43mDataFrameRenderer\u001b[49m\u001b[43m(\u001b[49m\u001b[43mformatter\u001b[49m\u001b[43m)\u001b[49m\u001b[38;5;241;43m.\u001b[39;49m\u001b[43mto_csv\u001b[49m\u001b[43m(\u001b[49m\n\u001b[1;32m   3987\u001b[0m \u001b[43m    \u001b[49m\u001b[43mpath_or_buf\u001b[49m\u001b[43m,\u001b[49m\n\u001b[1;32m   3988\u001b[0m \u001b[43m    \u001b[49m\u001b[43mlineterminator\u001b[49m\u001b[38;5;241;43m=\u001b[39;49m\u001b[43mlineterminator\u001b[49m\u001b[43m,\u001b[49m\n\u001b[1;32m   3989\u001b[0m \u001b[43m    \u001b[49m\u001b[43msep\u001b[49m\u001b[38;5;241;43m=\u001b[39;49m\u001b[43msep\u001b[49m\u001b[43m,\u001b[49m\n\u001b[1;32m   3990\u001b[0m \u001b[43m    \u001b[49m\u001b[43mencoding\u001b[49m\u001b[38;5;241;43m=\u001b[39;49m\u001b[43mencoding\u001b[49m\u001b[43m,\u001b[49m\n\u001b[1;32m   3991\u001b[0m \u001b[43m    \u001b[49m\u001b[43merrors\u001b[49m\u001b[38;5;241;43m=\u001b[39;49m\u001b[43merrors\u001b[49m\u001b[43m,\u001b[49m\n\u001b[1;32m   3992\u001b[0m \u001b[43m    \u001b[49m\u001b[43mcompression\u001b[49m\u001b[38;5;241;43m=\u001b[39;49m\u001b[43mcompression\u001b[49m\u001b[43m,\u001b[49m\n\u001b[1;32m   3993\u001b[0m \u001b[43m    \u001b[49m\u001b[43mquoting\u001b[49m\u001b[38;5;241;43m=\u001b[39;49m\u001b[43mquoting\u001b[49m\u001b[43m,\u001b[49m\n\u001b[1;32m   3994\u001b[0m \u001b[43m    \u001b[49m\u001b[43mcolumns\u001b[49m\u001b[38;5;241;43m=\u001b[39;49m\u001b[43mcolumns\u001b[49m\u001b[43m,\u001b[49m\n\u001b[1;32m   3995\u001b[0m \u001b[43m    \u001b[49m\u001b[43mindex_label\u001b[49m\u001b[38;5;241;43m=\u001b[39;49m\u001b[43mindex_label\u001b[49m\u001b[43m,\u001b[49m\n\u001b[1;32m   3996\u001b[0m \u001b[43m    \u001b[49m\u001b[43mmode\u001b[49m\u001b[38;5;241;43m=\u001b[39;49m\u001b[43mmode\u001b[49m\u001b[43m,\u001b[49m\n\u001b[1;32m   3997\u001b[0m \u001b[43m    \u001b[49m\u001b[43mchunksize\u001b[49m\u001b[38;5;241;43m=\u001b[39;49m\u001b[43mchunksize\u001b[49m\u001b[43m,\u001b[49m\n\u001b[1;32m   3998\u001b[0m \u001b[43m    \u001b[49m\u001b[43mquotechar\u001b[49m\u001b[38;5;241;43m=\u001b[39;49m\u001b[43mquotechar\u001b[49m\u001b[43m,\u001b[49m\n\u001b[1;32m   3999\u001b[0m \u001b[43m    \u001b[49m\u001b[43mdate_format\u001b[49m\u001b[38;5;241;43m=\u001b[39;49m\u001b[43mdate_format\u001b[49m\u001b[43m,\u001b[49m\n\u001b[1;32m   4000\u001b[0m \u001b[43m    \u001b[49m\u001b[43mdoublequote\u001b[49m\u001b[38;5;241;43m=\u001b[39;49m\u001b[43mdoublequote\u001b[49m\u001b[43m,\u001b[49m\n\u001b[1;32m   4001\u001b[0m \u001b[43m    \u001b[49m\u001b[43mescapechar\u001b[49m\u001b[38;5;241;43m=\u001b[39;49m\u001b[43mescapechar\u001b[49m\u001b[43m,\u001b[49m\n\u001b[1;32m   4002\u001b[0m \u001b[43m    \u001b[49m\u001b[43mstorage_options\u001b[49m\u001b[38;5;241;43m=\u001b[39;49m\u001b[43mstorage_options\u001b[49m\u001b[43m,\u001b[49m\n\u001b[1;32m   4003\u001b[0m \u001b[43m\u001b[49m\u001b[43m)\u001b[49m\n",
      "File \u001b[0;32m/opt/anaconda3/envs/midas_aug25/lib/python3.10/site-packages/pandas/io/formats/format.py:1014\u001b[0m, in \u001b[0;36mDataFrameRenderer.to_csv\u001b[0;34m(self, path_or_buf, encoding, sep, columns, index_label, mode, compression, quoting, quotechar, lineterminator, chunksize, date_format, doublequote, escapechar, errors, storage_options)\u001b[0m\n\u001b[1;32m    993\u001b[0m     created_buffer \u001b[38;5;241m=\u001b[39m \u001b[38;5;28;01mFalse\u001b[39;00m\n\u001b[1;32m    995\u001b[0m csv_formatter \u001b[38;5;241m=\u001b[39m CSVFormatter(\n\u001b[1;32m    996\u001b[0m     path_or_buf\u001b[38;5;241m=\u001b[39mpath_or_buf,\n\u001b[1;32m    997\u001b[0m     lineterminator\u001b[38;5;241m=\u001b[39mlineterminator,\n\u001b[0;32m   (...)\u001b[0m\n\u001b[1;32m   1012\u001b[0m     formatter\u001b[38;5;241m=\u001b[39m\u001b[38;5;28mself\u001b[39m\u001b[38;5;241m.\u001b[39mfmt,\n\u001b[1;32m   1013\u001b[0m )\n\u001b[0;32m-> 1014\u001b[0m \u001b[43mcsv_formatter\u001b[49m\u001b[38;5;241;43m.\u001b[39;49m\u001b[43msave\u001b[49m\u001b[43m(\u001b[49m\u001b[43m)\u001b[49m\n\u001b[1;32m   1016\u001b[0m \u001b[38;5;28;01mif\u001b[39;00m created_buffer:\n\u001b[1;32m   1017\u001b[0m     \u001b[38;5;28;01massert\u001b[39;00m \u001b[38;5;28misinstance\u001b[39m(path_or_buf, StringIO)\n",
      "File \u001b[0;32m/opt/anaconda3/envs/midas_aug25/lib/python3.10/site-packages/pandas/io/formats/csvs.py:251\u001b[0m, in \u001b[0;36mCSVFormatter.save\u001b[0;34m(self)\u001b[0m\n\u001b[1;32m    247\u001b[0m \u001b[38;5;250m\u001b[39m\u001b[38;5;124;03m\"\"\"\u001b[39;00m\n\u001b[1;32m    248\u001b[0m \u001b[38;5;124;03mCreate the writer & save.\u001b[39;00m\n\u001b[1;32m    249\u001b[0m \u001b[38;5;124;03m\"\"\"\u001b[39;00m\n\u001b[1;32m    250\u001b[0m \u001b[38;5;66;03m# apply compression and byte/text conversion\u001b[39;00m\n\u001b[0;32m--> 251\u001b[0m \u001b[38;5;28;01mwith\u001b[39;00m \u001b[43mget_handle\u001b[49m\u001b[43m(\u001b[49m\n\u001b[1;32m    252\u001b[0m \u001b[43m    \u001b[49m\u001b[38;5;28;43mself\u001b[39;49m\u001b[38;5;241;43m.\u001b[39;49m\u001b[43mfilepath_or_buffer\u001b[49m\u001b[43m,\u001b[49m\n\u001b[1;32m    253\u001b[0m \u001b[43m    \u001b[49m\u001b[38;5;28;43mself\u001b[39;49m\u001b[38;5;241;43m.\u001b[39;49m\u001b[43mmode\u001b[49m\u001b[43m,\u001b[49m\n\u001b[1;32m    254\u001b[0m \u001b[43m    \u001b[49m\u001b[43mencoding\u001b[49m\u001b[38;5;241;43m=\u001b[39;49m\u001b[38;5;28;43mself\u001b[39;49m\u001b[38;5;241;43m.\u001b[39;49m\u001b[43mencoding\u001b[49m\u001b[43m,\u001b[49m\n\u001b[1;32m    255\u001b[0m \u001b[43m    \u001b[49m\u001b[43merrors\u001b[49m\u001b[38;5;241;43m=\u001b[39;49m\u001b[38;5;28;43mself\u001b[39;49m\u001b[38;5;241;43m.\u001b[39;49m\u001b[43merrors\u001b[49m\u001b[43m,\u001b[49m\n\u001b[1;32m    256\u001b[0m \u001b[43m    \u001b[49m\u001b[43mcompression\u001b[49m\u001b[38;5;241;43m=\u001b[39;49m\u001b[38;5;28;43mself\u001b[39;49m\u001b[38;5;241;43m.\u001b[39;49m\u001b[43mcompression\u001b[49m\u001b[43m,\u001b[49m\n\u001b[1;32m    257\u001b[0m \u001b[43m    \u001b[49m\u001b[43mstorage_options\u001b[49m\u001b[38;5;241;43m=\u001b[39;49m\u001b[38;5;28;43mself\u001b[39;49m\u001b[38;5;241;43m.\u001b[39;49m\u001b[43mstorage_options\u001b[49m\u001b[43m,\u001b[49m\n\u001b[1;32m    258\u001b[0m \u001b[43m\u001b[49m\u001b[43m)\u001b[49m \u001b[38;5;28;01mas\u001b[39;00m handles:\n\u001b[1;32m    259\u001b[0m     \u001b[38;5;66;03m# Note: self.encoding is irrelevant here\u001b[39;00m\n\u001b[1;32m    260\u001b[0m     \u001b[38;5;28mself\u001b[39m\u001b[38;5;241m.\u001b[39mwriter \u001b[38;5;241m=\u001b[39m csvlib\u001b[38;5;241m.\u001b[39mwriter(\n\u001b[1;32m    261\u001b[0m         handles\u001b[38;5;241m.\u001b[39mhandle,\n\u001b[1;32m    262\u001b[0m         lineterminator\u001b[38;5;241m=\u001b[39m\u001b[38;5;28mself\u001b[39m\u001b[38;5;241m.\u001b[39mlineterminator,\n\u001b[0;32m   (...)\u001b[0m\n\u001b[1;32m    267\u001b[0m         quotechar\u001b[38;5;241m=\u001b[39m\u001b[38;5;28mself\u001b[39m\u001b[38;5;241m.\u001b[39mquotechar,\n\u001b[1;32m    268\u001b[0m     )\n\u001b[1;32m    270\u001b[0m     \u001b[38;5;28mself\u001b[39m\u001b[38;5;241m.\u001b[39m_save()\n",
      "File \u001b[0;32m/opt/anaconda3/envs/midas_aug25/lib/python3.10/site-packages/pandas/io/common.py:749\u001b[0m, in \u001b[0;36mget_handle\u001b[0;34m(path_or_buf, mode, encoding, compression, memory_map, is_text, errors, storage_options)\u001b[0m\n\u001b[1;32m    747\u001b[0m \u001b[38;5;66;03m# Only for write methods\u001b[39;00m\n\u001b[1;32m    748\u001b[0m \u001b[38;5;28;01mif\u001b[39;00m \u001b[38;5;124m\"\u001b[39m\u001b[38;5;124mr\u001b[39m\u001b[38;5;124m\"\u001b[39m \u001b[38;5;129;01mnot\u001b[39;00m \u001b[38;5;129;01min\u001b[39;00m mode \u001b[38;5;129;01mand\u001b[39;00m is_path:\n\u001b[0;32m--> 749\u001b[0m     \u001b[43mcheck_parent_directory\u001b[49m\u001b[43m(\u001b[49m\u001b[38;5;28;43mstr\u001b[39;49m\u001b[43m(\u001b[49m\u001b[43mhandle\u001b[49m\u001b[43m)\u001b[49m\u001b[43m)\u001b[49m\n\u001b[1;32m    751\u001b[0m \u001b[38;5;28;01mif\u001b[39;00m compression:\n\u001b[1;32m    752\u001b[0m     \u001b[38;5;28;01mif\u001b[39;00m compression \u001b[38;5;241m!=\u001b[39m \u001b[38;5;124m\"\u001b[39m\u001b[38;5;124mzstd\u001b[39m\u001b[38;5;124m\"\u001b[39m:\n\u001b[1;32m    753\u001b[0m         \u001b[38;5;66;03m# compression libraries do not like an explicit text-mode\u001b[39;00m\n",
      "File \u001b[0;32m/opt/anaconda3/envs/midas_aug25/lib/python3.10/site-packages/pandas/io/common.py:616\u001b[0m, in \u001b[0;36mcheck_parent_directory\u001b[0;34m(path)\u001b[0m\n\u001b[1;32m    614\u001b[0m parent \u001b[38;5;241m=\u001b[39m Path(path)\u001b[38;5;241m.\u001b[39mparent\n\u001b[1;32m    615\u001b[0m \u001b[38;5;28;01mif\u001b[39;00m \u001b[38;5;129;01mnot\u001b[39;00m parent\u001b[38;5;241m.\u001b[39mis_dir():\n\u001b[0;32m--> 616\u001b[0m     \u001b[38;5;28;01mraise\u001b[39;00m \u001b[38;5;167;01mOSError\u001b[39;00m(\u001b[38;5;124mrf\u001b[39m\u001b[38;5;124m\"\u001b[39m\u001b[38;5;124mCannot save file into a non-existent directory: \u001b[39m\u001b[38;5;124m'\u001b[39m\u001b[38;5;132;01m{\u001b[39;00mparent\u001b[38;5;132;01m}\u001b[39;00m\u001b[38;5;124m'\u001b[39m\u001b[38;5;124m\"\u001b[39m)\n",
      "\u001b[0;31mOSError\u001b[0m: Cannot save file into a non-existent directory: '../../training_data'"
     ]
    }
   ],
   "source": [
    "df_features.to_csv(\"../../training_data/08042025-cleaned-features.csv\")"
   ]
  },
  {
   "cell_type": "code",
   "execution_count": null,
   "metadata": {},
   "outputs": [],
   "source": [
    "df_labels.to_csv(\"../../training_data/08042025-cleaned-labels.csv\")"
   ]
  },
  {
   "cell_type": "code",
   "execution_count": null,
   "metadata": {},
   "outputs": [
    {
     "data": {
      "text/plain": [
       "(319534, 15)"
      ]
     },
     "execution_count": 29,
     "metadata": {},
     "output_type": "execute_result"
    }
   ],
   "source": [
    "df_features.shape"
   ]
  },
  {
   "cell_type": "code",
   "execution_count": null,
   "metadata": {},
   "outputs": [
    {
     "data": {
      "text/plain": [
       "(319260, 3)"
      ]
     },
     "execution_count": 30,
     "metadata": {},
     "output_type": "execute_result"
    }
   ],
   "source": [
    "df_labels.shape"
   ]
  },
  {
   "cell_type": "code",
   "execution_count": null,
   "metadata": {},
   "outputs": [],
   "source": []
  }
 ],
 "metadata": {
  "kernelspec": {
   "display_name": "midas_aug25",
   "language": "python",
   "name": "python3"
  },
  "language_info": {
   "codemirror_mode": {
    "name": "ipython",
    "version": 3
   },
   "file_extension": ".py",
   "mimetype": "text/x-python",
   "name": "python",
   "nbconvert_exporter": "python",
   "pygments_lexer": "ipython3",
   "version": "3.10.18"
  }
 },
 "nbformat": 4,
 "nbformat_minor": 4
}
