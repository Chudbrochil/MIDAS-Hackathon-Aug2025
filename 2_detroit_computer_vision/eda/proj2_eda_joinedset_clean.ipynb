{
 "cells": [
  {
   "cell_type": "markdown",
   "metadata": {},
   "source": [
    "# What have we done so far\n",
    "### De-duped parcel_id's\n",
    "### Selected predictive features\n",
    "### Cleaned the data (ONLY A BIT)"
   ]
  },
  {
   "cell_type": "code",
   "execution_count": 1,
   "metadata": {},
   "outputs": [],
   "source": [
    "import pandas as pd\n",
    "import numpy as np\n",
    "\n",
    "pd.set_option('display.max_rows', 500)\n",
    "pd.set_option('display.max_columns', 50)"
   ]
  },
  {
   "cell_type": "code",
   "execution_count": 2,
   "metadata": {},
   "outputs": [
    {
     "name": "stdout",
     "output_type": "stream",
     "text": [
      "Original dataframe shape: (511687, 94)\n"
     ]
    }
   ],
   "source": [
    "# Load the joined dataset\n",
    "df = pd.read_csv(\"../../data/data-jam-joined.csv\", low_memory=False)\n",
    "print(f\"Original dataframe shape: {df.shape}\")"
   ]
  },
  {
   "cell_type": "markdown",
   "metadata": {},
   "source": [
    "### Predictive columns:\n",
    "- year_built, tax_status, assessed_value, is_improved, total_floor_area, property_class_desc, IS_OCCUPIED (field), FACADE_SIDING_CONDITION, FIRE_DAMAGE_CONDITION\n",
    "- unit_cleared_at (dependent on time), permit_type (trade permits, date), issued_date (when permit issued), \n",
    "- VACANT (USPS), MAILER_EXPORT_DATE (when we determined they were vacant), account_active_code (water status, might be mangled)\n",
    "- pct_pre_claimed, total_acreage\n",
    "- local_historic_district: predictive, but discriminatory.\n",
    "- SURVEYOR_NOTES (free form text we can topic model against)\n",
    "\n",
    "\n",
    "### Predictive, but we won't have them at \"prediction time\":\n",
    "- FACADE_SIDING_CONDITION, FIRE_DAMAGE_CONDITION, ROOF_CONDITION, OPENINGS_CONDITION, IS_OPEN_TO_TREPASS, PORCH_STEPS_CONDITION\n",
    "\n",
    "### Helper columns: (filters, id's)\n",
    "- PARCEL_ID_x, DATE_SURVEYED(filter to last surveyed), FIELD_DETERMINATION(blight labels)\n",
    "- HAS_STRUCTURE (throw it out if it's false)"
   ]
  },
  {
   "cell_type": "code",
   "execution_count": 3,
   "metadata": {},
   "outputs": [],
   "source": [
    "\n",
    "selected_columns = [\n",
    "    'PARCEL_ID_x',  # Single parcel ID\n",
    "    'year_built_x', 'tax_status_x',\n",
    "    'assessed_value', 'is_improved_x', 'total_floor_area_x',\n",
    "    'property_class_desc', 'DATE_SURVEYED',\n",
    "    'FIELD_DETERMINATION', 'SURVEYOR_NOTES', 'HAS_STRUCTURE', 'IS_OCCUPIED',\n",
    "    'unit_cleared_at', 'address_id', \n",
    "    'record_id', 'permit_type', 'issued_date', 'address_id_trd',\n",
    "    'VACANT', 'MAILER_EXPORT_DATE',\n",
    "    'address_number', 'address_street_name',\n",
    "    'account_active_code', 'pct_pre_claimed', 'total_acreage', 'local_historic_district', \n",
    "]\n",
    "\n",
    "\n",
    "tight_df = df[selected_columns]"
   ]
  },
  {
   "cell_type": "code",
   "execution_count": 4,
   "metadata": {},
   "outputs": [
    {
     "data": {
      "text/html": [
       "<div>\n",
       "<style scoped>\n",
       "    .dataframe tbody tr th:only-of-type {\n",
       "        vertical-align: middle;\n",
       "    }\n",
       "\n",
       "    .dataframe tbody tr th {\n",
       "        vertical-align: top;\n",
       "    }\n",
       "\n",
       "    .dataframe thead th {\n",
       "        text-align: right;\n",
       "    }\n",
       "</style>\n",
       "<table border=\"1\" class=\"dataframe\">\n",
       "  <thead>\n",
       "    <tr style=\"text-align: right;\">\n",
       "      <th></th>\n",
       "      <th>PARCEL_ID_x</th>\n",
       "      <th>year_built_x</th>\n",
       "      <th>tax_status_x</th>\n",
       "      <th>assessed_value</th>\n",
       "      <th>is_improved_x</th>\n",
       "      <th>total_floor_area_x</th>\n",
       "      <th>property_class_desc</th>\n",
       "      <th>DATE_SURVEYED</th>\n",
       "      <th>FIELD_DETERMINATION</th>\n",
       "      <th>SURVEYOR_NOTES</th>\n",
       "      <th>HAS_STRUCTURE</th>\n",
       "      <th>IS_OCCUPIED</th>\n",
       "      <th>unit_cleared_at</th>\n",
       "      <th>address_id</th>\n",
       "      <th>record_id</th>\n",
       "      <th>permit_type</th>\n",
       "      <th>issued_date</th>\n",
       "      <th>address_id_trd</th>\n",
       "      <th>VACANT</th>\n",
       "      <th>MAILER_EXPORT_DATE</th>\n",
       "      <th>address_number</th>\n",
       "      <th>address_street_name</th>\n",
       "      <th>account_active_code</th>\n",
       "      <th>pct_pre_claimed</th>\n",
       "      <th>total_acreage</th>\n",
       "      <th>local_historic_district</th>\n",
       "    </tr>\n",
       "  </thead>\n",
       "  <tbody>\n",
       "    <tr>\n",
       "      <th>0</th>\n",
       "      <td>08010116.</td>\n",
       "      <td>1927.0</td>\n",
       "      <td>TAXABLE</td>\n",
       "      <td>50400.0</td>\n",
       "      <td>1.0</td>\n",
       "      <td>2600.0</td>\n",
       "      <td>RESIDENTIAL-IMPROVED</td>\n",
       "      <td>2024-07-03 00:00:00</td>\n",
       "      <td>Noticeable Evidence of Blight</td>\n",
       "      <td>Front entrance boarded up.</td>\n",
       "      <td>1.0</td>\n",
       "      <td>0.0</td>\n",
       "      <td>NaN</td>\n",
       "      <td>NaN</td>\n",
       "      <td>NaN</td>\n",
       "      <td>NaN</td>\n",
       "      <td>NaN</td>\n",
       "      <td>NaN</td>\n",
       "      <td>Y</td>\n",
       "      <td>2021-10-01</td>\n",
       "      <td>16191.0</td>\n",
       "      <td>BAYLIS ST</td>\n",
       "      <td>ACTIVE</td>\n",
       "      <td>NaN</td>\n",
       "      <td>NaN</td>\n",
       "      <td>NaN</td>\n",
       "    </tr>\n",
       "    <tr>\n",
       "      <th>1</th>\n",
       "      <td>08010116.</td>\n",
       "      <td>1927.0</td>\n",
       "      <td>TAXABLE</td>\n",
       "      <td>50400.0</td>\n",
       "      <td>1.0</td>\n",
       "      <td>2600.0</td>\n",
       "      <td>RESIDENTIAL-IMPROVED</td>\n",
       "      <td>2024-07-03 00:00:00</td>\n",
       "      <td>Noticeable Evidence of Blight</td>\n",
       "      <td>Front entrance boarded up.</td>\n",
       "      <td>1.0</td>\n",
       "      <td>0.0</td>\n",
       "      <td>NaN</td>\n",
       "      <td>NaN</td>\n",
       "      <td>NaN</td>\n",
       "      <td>NaN</td>\n",
       "      <td>NaN</td>\n",
       "      <td>NaN</td>\n",
       "      <td>Y</td>\n",
       "      <td>2020-05-01</td>\n",
       "      <td>16191.0</td>\n",
       "      <td>BAYLIS ST</td>\n",
       "      <td>ACTIVE</td>\n",
       "      <td>NaN</td>\n",
       "      <td>NaN</td>\n",
       "      <td>NaN</td>\n",
       "    </tr>\n",
       "    <tr>\n",
       "      <th>2</th>\n",
       "      <td>08010116.</td>\n",
       "      <td>1927.0</td>\n",
       "      <td>TAXABLE</td>\n",
       "      <td>50400.0</td>\n",
       "      <td>1.0</td>\n",
       "      <td>2600.0</td>\n",
       "      <td>RESIDENTIAL-IMPROVED</td>\n",
       "      <td>2024-07-03 00:00:00</td>\n",
       "      <td>Noticeable Evidence of Blight</td>\n",
       "      <td>Front entrance boarded up.</td>\n",
       "      <td>1.0</td>\n",
       "      <td>0.0</td>\n",
       "      <td>NaN</td>\n",
       "      <td>NaN</td>\n",
       "      <td>NaN</td>\n",
       "      <td>NaN</td>\n",
       "      <td>NaN</td>\n",
       "      <td>NaN</td>\n",
       "      <td>Y</td>\n",
       "      <td>2022-10-01</td>\n",
       "      <td>16191.0</td>\n",
       "      <td>BAYLIS ST</td>\n",
       "      <td>ACTIVE</td>\n",
       "      <td>NaN</td>\n",
       "      <td>NaN</td>\n",
       "      <td>NaN</td>\n",
       "    </tr>\n",
       "    <tr>\n",
       "      <th>3</th>\n",
       "      <td>08010116.</td>\n",
       "      <td>1927.0</td>\n",
       "      <td>TAXABLE</td>\n",
       "      <td>50400.0</td>\n",
       "      <td>1.0</td>\n",
       "      <td>2600.0</td>\n",
       "      <td>RESIDENTIAL-IMPROVED</td>\n",
       "      <td>2024-07-03 00:00:00</td>\n",
       "      <td>Noticeable Evidence of Blight</td>\n",
       "      <td>Front entrance boarded up.</td>\n",
       "      <td>1.0</td>\n",
       "      <td>0.0</td>\n",
       "      <td>NaN</td>\n",
       "      <td>NaN</td>\n",
       "      <td>NaN</td>\n",
       "      <td>NaN</td>\n",
       "      <td>NaN</td>\n",
       "      <td>NaN</td>\n",
       "      <td>N</td>\n",
       "      <td>2023-11-01</td>\n",
       "      <td>16191.0</td>\n",
       "      <td>BAYLIS ST</td>\n",
       "      <td>ACTIVE</td>\n",
       "      <td>NaN</td>\n",
       "      <td>NaN</td>\n",
       "      <td>NaN</td>\n",
       "    </tr>\n",
       "    <tr>\n",
       "      <th>4</th>\n",
       "      <td>08010116.</td>\n",
       "      <td>1927.0</td>\n",
       "      <td>TAXABLE</td>\n",
       "      <td>50400.0</td>\n",
       "      <td>1.0</td>\n",
       "      <td>2600.0</td>\n",
       "      <td>RESIDENTIAL-IMPROVED</td>\n",
       "      <td>2024-07-03 00:00:00</td>\n",
       "      <td>Noticeable Evidence of Blight</td>\n",
       "      <td>Front entrance boarded up.</td>\n",
       "      <td>1.0</td>\n",
       "      <td>0.0</td>\n",
       "      <td>NaN</td>\n",
       "      <td>NaN</td>\n",
       "      <td>NaN</td>\n",
       "      <td>NaN</td>\n",
       "      <td>NaN</td>\n",
       "      <td>NaN</td>\n",
       "      <td>Y</td>\n",
       "      <td>2023-11-01</td>\n",
       "      <td>16191.0</td>\n",
       "      <td>BAYLIS ST</td>\n",
       "      <td>ACTIVE</td>\n",
       "      <td>NaN</td>\n",
       "      <td>NaN</td>\n",
       "      <td>NaN</td>\n",
       "    </tr>\n",
       "  </tbody>\n",
       "</table>\n",
       "</div>"
      ],
      "text/plain": [
       "  PARCEL_ID_x  year_built_x tax_status_x  assessed_value  is_improved_x  \\\n",
       "0   08010116.        1927.0      TAXABLE         50400.0            1.0   \n",
       "1   08010116.        1927.0      TAXABLE         50400.0            1.0   \n",
       "2   08010116.        1927.0      TAXABLE         50400.0            1.0   \n",
       "3   08010116.        1927.0      TAXABLE         50400.0            1.0   \n",
       "4   08010116.        1927.0      TAXABLE         50400.0            1.0   \n",
       "\n",
       "   total_floor_area_x   property_class_desc        DATE_SURVEYED  \\\n",
       "0              2600.0  RESIDENTIAL-IMPROVED  2024-07-03 00:00:00   \n",
       "1              2600.0  RESIDENTIAL-IMPROVED  2024-07-03 00:00:00   \n",
       "2              2600.0  RESIDENTIAL-IMPROVED  2024-07-03 00:00:00   \n",
       "3              2600.0  RESIDENTIAL-IMPROVED  2024-07-03 00:00:00   \n",
       "4              2600.0  RESIDENTIAL-IMPROVED  2024-07-03 00:00:00   \n",
       "\n",
       "             FIELD_DETERMINATION              SURVEYOR_NOTES  HAS_STRUCTURE  \\\n",
       "0  Noticeable Evidence of Blight  Front entrance boarded up.            1.0   \n",
       "1  Noticeable Evidence of Blight  Front entrance boarded up.            1.0   \n",
       "2  Noticeable Evidence of Blight  Front entrance boarded up.            1.0   \n",
       "3  Noticeable Evidence of Blight  Front entrance boarded up.            1.0   \n",
       "4  Noticeable Evidence of Blight  Front entrance boarded up.            1.0   \n",
       "\n",
       "   IS_OCCUPIED unit_cleared_at  address_id record_id permit_type issued_date  \\\n",
       "0          0.0             NaN         NaN       NaN         NaN         NaN   \n",
       "1          0.0             NaN         NaN       NaN         NaN         NaN   \n",
       "2          0.0             NaN         NaN       NaN         NaN         NaN   \n",
       "3          0.0             NaN         NaN       NaN         NaN         NaN   \n",
       "4          0.0             NaN         NaN       NaN         NaN         NaN   \n",
       "\n",
       "   address_id_trd VACANT MAILER_EXPORT_DATE  address_number  \\\n",
       "0             NaN      Y         2021-10-01         16191.0   \n",
       "1             NaN      Y         2020-05-01         16191.0   \n",
       "2             NaN      Y         2022-10-01         16191.0   \n",
       "3             NaN      N         2023-11-01         16191.0   \n",
       "4             NaN      Y         2023-11-01         16191.0   \n",
       "\n",
       "  address_street_name account_active_code  pct_pre_claimed  total_acreage  \\\n",
       "0           BAYLIS ST              ACTIVE              NaN            NaN   \n",
       "1           BAYLIS ST              ACTIVE              NaN            NaN   \n",
       "2           BAYLIS ST              ACTIVE              NaN            NaN   \n",
       "3           BAYLIS ST              ACTIVE              NaN            NaN   \n",
       "4           BAYLIS ST              ACTIVE              NaN            NaN   \n",
       "\n",
       "  local_historic_district  \n",
       "0                     NaN  \n",
       "1                     NaN  \n",
       "2                     NaN  \n",
       "3                     NaN  \n",
       "4                     NaN  "
      ]
     },
     "execution_count": 4,
     "metadata": {},
     "output_type": "execute_result"
    }
   ],
   "source": [
    "# Display first few rows of the tight dataframe\n",
    "tight_df.head()"
   ]
  },
  {
   "cell_type": "code",
   "execution_count": 5,
   "metadata": {},
   "outputs": [
    {
     "data": {
      "text/plain": [
       "HAS_STRUCTURE\n",
       "1.0    446954\n",
       "0.0      4241\n",
       "Name: count, dtype: int64"
      ]
     },
     "execution_count": 5,
     "metadata": {},
     "output_type": "execute_result"
    }
   ],
   "source": [
    "tight_df['HAS_STRUCTURE'].value_counts()"
   ]
  },
  {
   "cell_type": "code",
   "execution_count": 6,
   "metadata": {},
   "outputs": [],
   "source": [
    "tight_df = tight_df[tight_df['HAS_STRUCTURE'] == 1.0]\n",
    "tight_df = tight_df.drop(columns=['HAS_STRUCTURE'])"
   ]
  },
  {
   "cell_type": "code",
   "execution_count": 7,
   "metadata": {},
   "outputs": [
    {
     "data": {
      "text/plain": [
       "(446954, 25)"
      ]
     },
     "execution_count": 7,
     "metadata": {},
     "output_type": "execute_result"
    }
   ],
   "source": [
    "tight_df.shape"
   ]
  },
  {
   "cell_type": "code",
   "execution_count": 8,
   "metadata": {},
   "outputs": [
    {
     "data": {
      "text/plain": [
       "Index(['PARCEL_ID_x', 'year_built_x', 'tax_status_x', 'assessed_value',\n",
       "       'is_improved_x', 'total_floor_area_x', 'property_class_desc',\n",
       "       'DATE_SURVEYED', 'FIELD_DETERMINATION', 'SURVEYOR_NOTES', 'IS_OCCUPIED',\n",
       "       'unit_cleared_at', 'address_id', 'record_id', 'permit_type',\n",
       "       'issued_date', 'address_id_trd', 'VACANT', 'MAILER_EXPORT_DATE',\n",
       "       'address_number', 'address_street_name', 'account_active_code',\n",
       "       'pct_pre_claimed', 'total_acreage', 'local_historic_district'],\n",
       "      dtype='object')"
      ]
     },
     "execution_count": 8,
     "metadata": {},
     "output_type": "execute_result"
    }
   ],
   "source": [
    "tight_df.columns"
   ]
  },
  {
   "cell_type": "code",
   "execution_count": 9,
   "metadata": {},
   "outputs": [],
   "source": [
    "# TODO: Keep the latest survey.\n",
    "\n",
    "# Drop erroneous parcel's that have null join's amounting to 12,742 rows.\n",
    "tight_df = tight_df[~tight_df['PARCEL_ID_x'].isin(['22118326.',\n",
    "  '02001944.', '22087886-7',\n",
    "  '22087888.', '08007564.',\n",
    "  '08010001.', '09006208.',\n",
    "  '01000670-1', '17007609.',\n",
    "  '18011974.'])]"
   ]
  },
  {
   "cell_type": "code",
   "execution_count": 10,
   "metadata": {},
   "outputs": [
    {
     "data": {
      "text/plain": [
       "(319534, 25)"
      ]
     },
     "execution_count": 10,
     "metadata": {},
     "output_type": "execute_result"
    }
   ],
   "source": [
    "tight_df.shape"
   ]
  },
  {
   "cell_type": "code",
   "execution_count": 11,
   "metadata": {},
   "outputs": [
    {
     "data": {
      "text/plain": [
       "Index(['PARCEL_ID_x', 'year_built_x', 'tax_status_x', 'assessed_value',\n",
       "       'is_improved_x', 'total_floor_area_x', 'property_class_desc',\n",
       "       'DATE_SURVEYED', 'FIELD_DETERMINATION', 'SURVEYOR_NOTES', 'IS_OCCUPIED',\n",
       "       'unit_cleared_at', 'address_id', 'record_id', 'permit_type',\n",
       "       'issued_date', 'address_id_trd', 'VACANT', 'MAILER_EXPORT_DATE',\n",
       "       'address_number', 'address_street_name', 'account_active_code',\n",
       "       'pct_pre_claimed', 'total_acreage', 'local_historic_district'],\n",
       "      dtype='object')"
      ]
     },
     "execution_count": 11,
     "metadata": {},
     "output_type": "execute_result"
    }
   ],
   "source": [
    "tight_df.columns"
   ]
  },
  {
   "cell_type": "code",
   "execution_count": 12,
   "metadata": {},
   "outputs": [],
   "source": [
    "tight_df.to_csv(\"data-jam-joined-cleaner-08042025.csv\")"
   ]
  },
  {
   "cell_type": "code",
   "execution_count": 14,
   "metadata": {},
   "outputs": [],
   "source": [
    "# CV model does roof, opening (missing a wall)\n",
    "\n",
    "# Roof: 67.72% accuracy\n",
    "# Wall: 57%\n",
    "# Opening: 67%"
   ]
  },
  {
   "cell_type": "markdown",
   "metadata": {},
   "source": []
  },
  {
   "cell_type": "code",
   "execution_count": null,
   "metadata": {},
   "outputs": [],
   "source": [
    "# Define predictive columns\n",
    "predictive_columns = [\n",
    "    'year_built_x', 'tax_status_x',\n",
    "    'assessed_value', 'is_improved_x',\n",
    "'total_floor_area_x', 'DATE_SURVEYED',\n",
    "    'property_class_desc',\n",
    "    'SURVEYOR_NOTES', 'IS_OCCUPIED',\n",
    "    'permit_type',\n",
    "    'VACANT',\n",
    "    'account_active_code', 'pct_pre_claimed',\n",
    "'total_acreage', 'local_historic_district',\n",
    "]\n",
    "\n",
    "df_features = tight_df[['PARCEL_ID_x'] +\n",
    "  predictive_columns]\n",
    "\n",
    "# Define the valid blight labels\n",
    "valid_labels = {\n",
    "    'Vacant (Not Blighted)': 0,\n",
    "    'No Action (Salvage)': 0,\n",
    "    'Noticeable Evidence of Blight': 1,\n",
    "    'Significant Evidence of Blight': 2,\n",
    "    'Extreme Evidence of Blight': 3\n",
    "}\n",
    "\n",
    "# Filter to only keep rows with valid \n",
    "df_labels = tight_df[tight_df['FIELD_DETERMINATION'].isin(valid_labels.keys())][['PARCEL_ID_x','FIELD_DETERMINATION']].copy()\n",
    "\n",
    "# Create numeric label column\n",
    "df_labels['label'] = df_labels['FIELD_DETERMINATION'].map(valid_labels)\n",
    "\n",
    "# Create string label column (keeping original names)\n",
    "df_labels['label_str'] = df_labels['FIELD_DETERMINATION']\n",
    "\n",
    "# Drop the original FIELD_DETERMINATION column if you \n",
    "df_labels = df_labels[['PARCEL_ID_x', 'label', 'label_str']]"
   ]
  },
  {
   "cell_type": "code",
   "execution_count": 25,
   "metadata": {},
   "outputs": [
    {
     "data": {
      "text/plain": [
       "label\n",
       "1    171274\n",
       "0     77987\n",
       "2     60436\n",
       "3      9563\n",
       "Name: count, dtype: int64"
      ]
     },
     "execution_count": 25,
     "metadata": {},
     "output_type": "execute_result"
    }
   ],
   "source": [
    "df_labels['label'].value_counts()"
   ]
  },
  {
   "cell_type": "code",
   "execution_count": null,
   "metadata": {},
   "outputs": [],
   "source": [
    "df_features.to_csv(\"../../training_data/08042025-cleaned-features.csv\")"
   ]
  },
  {
   "cell_type": "code",
   "execution_count": null,
   "metadata": {},
   "outputs": [],
   "source": [
    "df_labels.to_csv(\"../../training_data/08042025-cleaned-labels.csv\")"
   ]
  },
  {
   "cell_type": "code",
   "execution_count": 29,
   "metadata": {},
   "outputs": [
    {
     "data": {
      "text/plain": [
       "(319534, 15)"
      ]
     },
     "execution_count": 29,
     "metadata": {},
     "output_type": "execute_result"
    }
   ],
   "source": [
    "df_features.shape"
   ]
  },
  {
   "cell_type": "code",
   "execution_count": 30,
   "metadata": {},
   "outputs": [
    {
     "data": {
      "text/plain": [
       "(319260, 3)"
      ]
     },
     "execution_count": 30,
     "metadata": {},
     "output_type": "execute_result"
    }
   ],
   "source": [
    "df_labels.shape"
   ]
  },
  {
   "cell_type": "code",
   "execution_count": null,
   "metadata": {},
   "outputs": [],
   "source": []
  }
 ],
 "metadata": {
  "kernelspec": {
   "display_name": "midas_aug25",
   "language": "python",
   "name": "python3"
  },
  "language_info": {
   "codemirror_mode": {
    "name": "ipython",
    "version": 3
   },
   "file_extension": ".py",
   "mimetype": "text/x-python",
   "name": "python",
   "nbconvert_exporter": "python",
   "pygments_lexer": "ipython3",
   "version": "3.10.18"
  }
 },
 "nbformat": 4,
 "nbformat_minor": 4
}
